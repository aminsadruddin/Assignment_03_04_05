{
  "nbformat": 4,
  "nbformat_minor": 0,
  "metadata": {
    "colab": {
      "provenance": [],
      "toc_visible": true,
      "authorship_tag": "ABX9TyPmfQhVQx3G/UhEztpQT8wR",
      "include_colab_link": true
    },
    "kernelspec": {
      "name": "python3",
      "display_name": "Python 3"
    },
    "language_info": {
      "name": "python"
    }
  },
  "cells": [
    {
      "cell_type": "markdown",
      "metadata": {
        "id": "view-in-github",
        "colab_type": "text"
      },
      "source": [
        "<a href=\"https://colab.research.google.com/github/aminsadruddin/Assignment_03_04_05/blob/main/Assignment_04_(List)ans.ipynb\" target=\"_parent\"><img src=\"https://colab.research.google.com/assets/colab-badge.svg\" alt=\"Open In Colab\"/></a>"
      ]
    },
    {
      "cell_type": "markdown",
      "source": [
        "1. Write a program that accepts a list from user and print the alternate element of list."
      ],
      "metadata": {
        "id": "oVz3_EsOaOEp"
      }
    },
    {
      "cell_type": "code",
      "source": [
        "a = list(input(\"Enter a list: \"))\n",
        "print(a[::2])\n",
        "\n"
      ],
      "metadata": {
        "colab": {
          "base_uri": "https://localhost:8080/"
        },
        "id": "LoOWeMvwabps",
        "outputId": "d0f0d4ae-95b5-4962-e1f0-20308a2e58c7"
      },
      "execution_count": null,
      "outputs": [
        {
          "output_type": "stream",
          "name": "stdout",
          "text": [
            "Enter a list: AnnnaaAATUOHGJ\n",
            "['A', 'n', 'a', 'A', 'T', 'O', 'G']\n"
          ]
        }
      ]
    },
    {
      "cell_type": "markdown",
      "source": [
        "2. Write a program that accepts a list from user. Your program should reverse the content of list and\n",
        "display it. Do not use reverse() method."
      ],
      "metadata": {
        "id": "DkUqkjpxajvJ"
      }
    },
    {
      "cell_type": "code",
      "source": [
        "b = str(input(\"Enter a list: \"))\n",
        "b = b.split()\n",
        "c = list(b)\n",
        "c = c[::-1]\n",
        "print(b)\n"
      ],
      "metadata": {
        "colab": {
          "base_uri": "https://localhost:8080/"
        },
        "id": "jRg8khziaj3G",
        "outputId": "6fbc435e-a334-4915-9b36-798742382f5a"
      },
      "execution_count": null,
      "outputs": [
        {
          "output_type": "stream",
          "name": "stdout",
          "text": [
            "Enter a list: aasa 22 asas 38656\n",
            "['aasa', '22', 'asas', '38656']\n"
          ]
        }
      ]
    },
    {
      "cell_type": "markdown",
      "source": [
        "3. Find and display the largest number of a list without using built-in function max(). Your program\n",
        "should ask the user to input values in list from keyboard."
      ],
      "metadata": {
        "id": "gQN49K0AakNo"
      }
    },
    {
      "cell_type": "code",
      "source": [
        "def largest_num(lll):\n",
        "  d = 0\n",
        "  for i in lll:\n",
        "    if i > d:\n",
        "      d = i\n",
        "  print(d)\n",
        "\n",
        "largest_num([1,3,8,9,8])\n"
      ],
      "metadata": {
        "id": "QGgWWsDwakUf",
        "colab": {
          "base_uri": "https://localhost:8080/",
          "height": 0
        },
        "outputId": "aebdfc61-5225-456a-b64c-e7bdbed07ecb"
      },
      "execution_count": 17,
      "outputs": [
        {
          "output_type": "stream",
          "name": "stdout",
          "text": [
            "9\n"
          ]
        }
      ]
    },
    {
      "cell_type": "markdown",
      "source": [
        "4. Write a program that rotates the element of a list so that the element at the first index moves to the\n",
        "second index, the element in the second index moves to the third index, etc., and the element in the last\n",
        "index moves to the first index."
      ],
      "metadata": {
        "id": "Tg4yS-QuakbJ"
      }
    },
    {
      "cell_type": "code",
      "source": [
        "def rotate_list(lst):\n",
        "    return lst[1:] + [lst[0]]\n",
        "\n",
        "rotate_list([1,2,3,4,5])\n"
      ],
      "metadata": {
        "id": "68tDFCedakh5",
        "colab": {
          "base_uri": "https://localhost:8080/",
          "height": 0
        },
        "outputId": "16c6eaff-78ae-46f3-f07e-624ac8342075"
      },
      "execution_count": 18,
      "outputs": [
        {
          "output_type": "execute_result",
          "data": {
            "text/plain": [
              "[2, 3, 4, 5, 1]"
            ]
          },
          "metadata": {},
          "execution_count": 18
        }
      ]
    },
    {
      "cell_type": "markdown",
      "source": [
        "5. Write a program that input a string and ask user to delete a given word from a string."
      ],
      "metadata": {
        "id": "u_ShAf69akoX"
      }
    },
    {
      "cell_type": "code",
      "source": [
        "a = str(input(\" enter your string : \"))\n",
        "print (\"your string is *** :\", a)\n",
        "b =  str(input(\" enter your string to delet: \"))\n",
        "c = a.replace(b, \"\")\n",
        "print (\"your new string is *** :\", c)\n"
      ],
      "metadata": {
        "id": "0_EbUF9HakvK",
        "colab": {
          "base_uri": "https://localhost:8080/",
          "height": 0
        },
        "outputId": "6c31b203-592f-4dae-f21a-e352e580a200"
      },
      "execution_count": 19,
      "outputs": [
        {
          "output_type": "stream",
          "name": "stdout",
          "text": [
            " enter your string : my name is amin and i am a boy \n",
            "your string is *** : my name is amin and i am a boy \n",
            " enter your string to delet: my \n",
            "your new string is *** : name is amin and i am a boy \n"
          ]
        }
      ]
    },
    {
      "cell_type": "markdown",
      "source": [
        "6. Write a program that reads a string from the user containing a date in the form mm/dd/yyyy. It\n",
        "should print the date in the form March 12, 2021."
      ],
      "metadata": {
        "id": "eTrKPsHzak1q"
      }
    },
    {
      "cell_type": "code",
      "source": [
        "date_input = input(\"Enter a date (mm/dd/yyyy): \")\n",
        "date_parts = date_input.split(\"/\")\n",
        "print(date_parts)\n",
        "\n",
        "month = date_parts[0]\n",
        "day = (date_parts[1])\n",
        "year = (date_parts[2])\n",
        "\n",
        "print(month)\n",
        "print(day)\n",
        "print(year)\n",
        "\n",
        "if month == \"01\":\n",
        "    month_name = \"January\"\n",
        "elif month == \"02\":\n",
        "    month_name = \"February\"\n",
        "elif month == \"03\":\n",
        "    month_name = \"March\"\n",
        "elif month == \"04\":\n",
        "    month_name = \"April\"\n",
        "elif month == \"05\":\n",
        "    month_name = \"May\"\n",
        "elif month == \"06\":\n",
        "    month_name = \"June\"\n",
        "elif month == \"07\":\n",
        "    month_name = \"July\"\n",
        "elif month == \"08\":\n",
        "    month_name = \"August\"\n",
        "elif month == \"09\":\n",
        "    month_name = \"September\"\n",
        "elif month == \"10\":\n",
        "    month_name = \"October\"\n",
        "elif month == \"11\":\n",
        "    month_name = \"November\"\n",
        "elif month == \"12\":\n",
        "    month_name = \"December\"\n",
        "else:\n",
        "    month_name = \"Unknown\"\n",
        "\n",
        "print(f\"{month_name} {day}, {year}\")"
      ],
      "metadata": {
        "id": "8htxm09Uak77",
        "colab": {
          "base_uri": "https://localhost:8080/"
        },
        "outputId": "fc57d37e-a3d2-4479-b82a-f26d142e5ee0"
      },
      "execution_count": 31,
      "outputs": [
        {
          "output_type": "stream",
          "name": "stdout",
          "text": [
            "Enter a date (mm/dd/yyyy): 12/30/2024\n",
            "['12', '30', '2024']\n",
            "12\n",
            "30\n",
            "2024\n",
            "December 30, 2024\n"
          ]
        }
      ]
    },
    {
      "cell_type": "markdown",
      "source": [
        "7. Write a program with a function that accepts a string from keyboard and create a new string after\n",
        "converting character of each word capitalized. For instance, if the sentence is \"stop and smell the roses.\"\n",
        "the output should be \"Stop And Smell The Roses\""
      ],
      "metadata": {
        "id": "ZSSoA4OUalCa"
      }
    },
    {
      "cell_type": "code",
      "source": [
        "a = str(input(\"Enter a senterces : \"))\n",
        "b = a.title()\n",
        "print(b)"
      ],
      "metadata": {
        "id": "FjRjSsVXalU7",
        "colab": {
          "base_uri": "https://localhost:8080/"
        },
        "outputId": "c7dd18cc-f661-4884-fde9-6492c4302d65"
      },
      "execution_count": 33,
      "outputs": [
        {
          "output_type": "stream",
          "name": "stdout",
          "text": [
            "Enter a senterces : stop and smell the roses.\n",
            "Stop And Smell The Roses.\n"
          ]
        }
      ]
    },
    {
      "cell_type": "markdown",
      "source": [
        "8. Find the sum of each row of matrix of size m x n. For example for the following matrix output will be\n",
        "like this :\n",
        "Sum of row 1 = 32\n",
        "Sum of row 2 = 31\n",
        "Sum of row 3 = 63"
      ],
      "metadata": {
        "id": "nPZuak3Wala_"
      }
    },
    {
      "cell_type": "code",
      "source": [
        "matrix = [ [2, 11, 7, 12],\n",
        "          [5, 2, 9, 15],\n",
        "           [8, 3, 10, 42]]\n",
        "j = 0\n",
        "for i in matrix:\n",
        "  j = j + 1\n",
        "  print(f\"sum of row {j} = \", sum(i))\n",
        ""
      ],
      "metadata": {
        "id": "IuW6pDF_bDv-",
        "colab": {
          "base_uri": "https://localhost:8080/"
        },
        "outputId": "b86a9fbb-60cd-433a-cb63-13e3979efe6a"
      },
      "execution_count": 43,
      "outputs": [
        {
          "output_type": "stream",
          "name": "stdout",
          "text": [
            "sum of row 1 =  32\n",
            "sum of row 2 =  31\n",
            "sum of row 3 =  63\n"
          ]
        }
      ]
    },
    {
      "cell_type": "markdown",
      "source": [
        "9. Write a program to add two matrices of size n x m."
      ],
      "metadata": {
        "id": "bz-BGaZXbD2d"
      }
    },
    {
      "cell_type": "code",
      "source": [
        "matrix1 = [ [2, 11, 7, 12],\n",
        "          [5, 2, 9, 15],\n",
        "           [8, 3, 10, 42]]\n",
        "\n",
        "matrix2 = [ [1, 2, 3, 4],\n",
        "          [5, 6, 7, 8],\n",
        "           [9, 10, 11, 12]]\n",
        "\n",
        "result = []\n",
        "\n",
        "for i in range(len(matrix1)):\n",
        "    row = []\n",
        "    for j in range(len(matrix1[0])):\n",
        "        row.append(matrix1[i][j] + matrix2[i][j])\n",
        "    result.append(row)\n",
        "\n",
        "for row in result:\n",
        "    print(row)\n",
        "\n"
      ],
      "metadata": {
        "id": "GS-lB9otbD8_",
        "colab": {
          "base_uri": "https://localhost:8080/"
        },
        "outputId": "23c69a87-a650-45dc-99ab-d0ab0ec6ccfa"
      },
      "execution_count": 44,
      "outputs": [
        {
          "output_type": "stream",
          "name": "stdout",
          "text": [
            "[3, 13, 10, 16]\n",
            "[10, 8, 16, 23]\n",
            "[17, 13, 21, 54]\n"
          ]
        }
      ]
    },
    {
      "cell_type": "markdown",
      "source": [
        "10. Write a program to multiply two matrices"
      ],
      "metadata": {
        "id": "QDztS0GybECs"
      }
    },
    {
      "cell_type": "code",
      "source": [
        "matrix3 = [ [ 3, 11, 7, 12],\n",
        "           [4,3,34,5],\n",
        "            [1,2,3,4]]\n",
        "\n",
        "matrix4 = [ [1,5,5,8],\n",
        "           [2,35,6,8],\n",
        "            [1,2,3,4]]\n",
        "\n",
        "result = []\n",
        "\n",
        "for i in range(len(matrix3)):\n",
        "    row = []\n",
        "    for j in range(len(matrix3[0])):\n",
        "        row\n",
        "        element = 0\n",
        "        for k in range(len(matrix3)):\n",
        "            element += matrix3[i][k] * matrix4[k][j]\n",
        "        row.append(element)\n",
        "    result.append(row)\n",
        "\n",
        "for row in result:\n",
        "    print(row)\n"
      ],
      "metadata": {
        "id": "arwLxQ6TbEH_",
        "colab": {
          "base_uri": "https://localhost:8080/"
        },
        "outputId": "698e468c-fc5b-4d9b-f936-550a4c4a4279"
      },
      "execution_count": 46,
      "outputs": [
        {
          "output_type": "stream",
          "name": "stdout",
          "text": [
            "[32, 414, 102, 140]\n",
            "[44, 193, 140, 192]\n",
            "[8, 81, 26, 36]\n"
          ]
        }
      ]
    },
    {
      "cell_type": "code",
      "source": [],
      "metadata": {
        "id": "KY-nDz-2alpM"
      },
      "execution_count": null,
      "outputs": []
    }
  ]
}