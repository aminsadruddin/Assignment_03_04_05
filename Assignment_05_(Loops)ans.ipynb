{
  "nbformat": 4,
  "nbformat_minor": 0,
  "metadata": {
    "colab": {
      "provenance": [],
      "toc_visible": true,
      "authorship_tag": "ABX9TyN1CKsDqL92uJvFvmfQFEG3",
      "include_colab_link": true
    },
    "kernelspec": {
      "name": "python3",
      "display_name": "Python 3"
    },
    "language_info": {
      "name": "python"
    }
  },
  "cells": [
    {
      "cell_type": "markdown",
      "metadata": {
        "id": "view-in-github",
        "colab_type": "text"
      },
      "source": [
        "<a href=\"https://colab.research.google.com/github/aminsadruddin/Assignment_03_04_05/blob/main/Assignment_05_(Loops)ans.ipynb\" target=\"_parent\"><img src=\"https://colab.research.google.com/assets/colab-badge.svg\" alt=\"Open In Colab\"/></a>"
      ]
    },
    {
      "cell_type": "markdown",
      "source": [
        "1. Write a Python program to print the numbers from 1 to 10 using a for loop."
      ],
      "metadata": {
        "id": "8140Jl8oPiLm"
      }
    },
    {
      "cell_type": "code",
      "source": [
        "for i in range (1,11):\n",
        "    print(i)"
      ],
      "metadata": {
        "colab": {
          "base_uri": "https://localhost:8080/"
        },
        "id": "TA54B_pAPzER",
        "outputId": "e9e74388-93fd-4847-c14a-bec4515ff679"
      },
      "execution_count": null,
      "outputs": [
        {
          "output_type": "stream",
          "name": "stdout",
          "text": [
            "1\n",
            "2\n",
            "3\n",
            "4\n",
            "5\n",
            "6\n",
            "7\n",
            "8\n",
            "9\n",
            "10\n"
          ]
        }
      ]
    },
    {
      "cell_type": "markdown",
      "source": [
        "2. Write a Python program to print the numbers from 20 to 1 using a while loop."
      ],
      "metadata": {
        "id": "wuz1W-7DPzMP"
      }
    },
    {
      "cell_type": "code",
      "source": [
        "for i in range (20,0,-1):\n",
        "    print(i)"
      ],
      "metadata": {
        "colab": {
          "base_uri": "https://localhost:8080/"
        },
        "id": "QuuhJxsPPzXP",
        "outputId": "279e92c0-d257-4902-ee1f-752f96991295"
      },
      "execution_count": null,
      "outputs": [
        {
          "output_type": "stream",
          "name": "stdout",
          "text": [
            "20\n",
            "19\n",
            "18\n",
            "17\n",
            "16\n",
            "15\n",
            "14\n",
            "13\n",
            "12\n",
            "11\n",
            "10\n",
            "9\n",
            "8\n",
            "7\n",
            "6\n",
            "5\n",
            "4\n",
            "3\n",
            "2\n",
            "1\n"
          ]
        }
      ]
    },
    {
      "cell_type": "markdown",
      "source": [
        "3. Write a program to print even numbers from 1 to 10."
      ],
      "metadata": {
        "id": "j0-a7ZUmPzg-"
      }
    },
    {
      "cell_type": "code",
      "source": [
        "for i in range (1,11):\n",
        "    if i%2==0:\n",
        "        print(i)"
      ],
      "metadata": {
        "colab": {
          "base_uri": "https://localhost:8080/"
        },
        "id": "llaZZ5lvPzpg",
        "outputId": "a9a406fc-a611-4010-e44c-8685e694c1ed"
      },
      "execution_count": null,
      "outputs": [
        {
          "output_type": "stream",
          "name": "stdout",
          "text": [
            "2\n",
            "4\n",
            "6\n",
            "8\n",
            "10\n"
          ]
        }
      ]
    },
    {
      "cell_type": "markdown",
      "source": [
        "4. Write a program that prompts the user to enter a number n and prints all the\n",
        "numbers from 1 to n."
      ],
      "metadata": {
        "id": "ywSE5g89Pzxe"
      }
    },
    {
      "cell_type": "code",
      "source": [
        "a = int(input(\"enter a number\"))\n",
        "for i in range (1,a+1):\n",
        "    print(i)"
      ],
      "metadata": {
        "colab": {
          "base_uri": "https://localhost:8080/"
        },
        "id": "QUUR-GtIPz5P",
        "outputId": "887d337f-5881-4d9a-f4cc-569a0f7ee1dc"
      },
      "execution_count": null,
      "outputs": [
        {
          "output_type": "stream",
          "name": "stdout",
          "text": [
            "enter a number10\n",
            "1\n",
            "2\n",
            "3\n",
            "4\n",
            "5\n",
            "6\n",
            "7\n",
            "8\n",
            "9\n",
            "10\n"
          ]
        }
      ]
    },
    {
      "cell_type": "markdown",
      "source": [
        "5. Write a program that prompts the user to enter a number n, and then prints all the\n",
        "odd numbers between 1 and n."
      ],
      "metadata": {
        "id": "DL5oEVtzP0Ae"
      }
    },
    {
      "cell_type": "code",
      "source": [
        "a = int(input(\"enter a number\"))\n",
        "for i in range (1,a+1):\n",
        "    if i%2!=0:\n",
        "        print(i)"
      ],
      "metadata": {
        "id": "0rGJnsyZP0Ht",
        "colab": {
          "base_uri": "https://localhost:8080/"
        },
        "outputId": "3867025c-a570-4406-fe38-53a1e3a8a65c"
      },
      "execution_count": null,
      "outputs": [
        {
          "output_type": "stream",
          "name": "stdout",
          "text": [
            "enter a number33\n",
            "1\n",
            "3\n",
            "5\n",
            "7\n",
            "9\n",
            "11\n",
            "13\n",
            "15\n",
            "17\n",
            "19\n",
            "21\n",
            "23\n",
            "25\n",
            "27\n",
            "29\n",
            "31\n",
            "33\n"
          ]
        }
      ]
    },
    {
      "cell_type": "markdown",
      "source": [
        "6. Write a program that prints 'Happy Birthday!' five times on screen."
      ],
      "metadata": {
        "id": "utUQIoiNP0Ow"
      }
    },
    {
      "cell_type": "code",
      "source": [
        "a = \"Happy Birthday!\"\n",
        "for i in range (1,6):\n",
        "    print(a)"
      ],
      "metadata": {
        "id": "SxlH3NYhP0Vt",
        "colab": {
          "base_uri": "https://localhost:8080/"
        },
        "outputId": "73eb3c32-dc50-42eb-9a5f-012dc1ab7cf5"
      },
      "execution_count": null,
      "outputs": [
        {
          "output_type": "stream",
          "name": "stdout",
          "text": [
            "Happy Birthday!\n",
            "Happy Birthday!\n",
            "Happy Birthday!\n",
            "Happy Birthday!\n",
            "Happy Birthday!\n"
          ]
        }
      ]
    },
    {
      "cell_type": "markdown",
      "source": [
        "7. Write a program that takes a number n as input from the user and generates the first\n",
        "n terms of the series formed by squaring the natural numbers.\n",
        "Sample output\n",
        "Enter a number: 6\n",
        "The first 6 terms of the series are:\n",
        "1 4 9 16 25 36"
      ],
      "metadata": {
        "id": "m9wZIwvcP0cT"
      }
    },
    {
      "cell_type": "code",
      "source": [
        "a = int(input(\"enter a number\"))\n",
        "for i in range (1,a+1):\n",
        "    print(i**2)"
      ],
      "metadata": {
        "id": "dQq3I7FXP0iu",
        "colab": {
          "base_uri": "https://localhost:8080/"
        },
        "outputId": "1f256633-9521-4f4d-c243-62d3280f3d64"
      },
      "execution_count": null,
      "outputs": [
        {
          "output_type": "stream",
          "name": "stdout",
          "text": [
            "enter a number7\n",
            "1\n",
            "4\n",
            "9\n",
            "16\n",
            "25\n",
            "36\n",
            "49\n"
          ]
        }
      ]
    },
    {
      "cell_type": "code",
      "source": [],
      "metadata": {
        "id": "qx3fasL7-5-3"
      },
      "execution_count": null,
      "outputs": []
    },
    {
      "cell_type": "markdown",
      "source": [
        "8. Write a program that prompts the user to input a number and prints its multiplication\n",
        "table.\n"
      ],
      "metadata": {
        "id": "vfX3JjFVP0pd"
      }
    },
    {
      "cell_type": "code",
      "source": [
        "i = int(input(\"enter a number\"))\n",
        "print (1*i,2*i,3*i,4*i,5*i,6*i,7*i,8*i,9*i,10*i)"
      ],
      "metadata": {
        "id": "W4KgfxpJP2Hv",
        "colab": {
          "base_uri": "https://localhost:8080/"
        },
        "outputId": "40856386-284b-427d-a388-0398fcd061b7"
      },
      "execution_count": null,
      "outputs": [
        {
          "output_type": "stream",
          "name": "stdout",
          "text": [
            "enter a number3\n",
            "3 6 9 12 15 18 21 24 27 30\n"
          ]
        }
      ]
    },
    {
      "cell_type": "code",
      "source": [
        "a = int(input(\"enter a number\"))\n",
        "for i in range (1,11):\n",
        "    print(i*a)"
      ],
      "metadata": {
        "colab": {
          "base_uri": "https://localhost:8080/"
        },
        "id": "nTkSRbKV9d60",
        "outputId": "3e7a392b-fd8f-4f76-9b1e-aff0294dd29c"
      },
      "execution_count": null,
      "outputs": [
        {
          "output_type": "stream",
          "name": "stdout",
          "text": [
            "enter a number4\n",
            "4\n",
            "8\n",
            "12\n",
            "16\n",
            "20\n",
            "24\n",
            "28\n",
            "32\n",
            "36\n",
            "40\n"
          ]
        }
      ]
    },
    {
      "cell_type": "markdown",
      "source": [
        "9. Write a Python program to print the first 8 terms of an arithmetic progression starting\n",
        "with 3 and having a common difference of 4.\n",
        "The program should output the following sequence:\n",
        "3 7 11 15 19 23 27 31"
      ],
      "metadata": {
        "id": "ZIMqIjBGP2Pg"
      }
    },
    {
      "cell_type": "code",
      "source": [
        "for i in range (3,33,4):\n",
        "    print(i)"
      ],
      "metadata": {
        "id": "sgHauuw_P2Yg",
        "colab": {
          "base_uri": "https://localhost:8080/"
        },
        "outputId": "6ad48772-873e-4a4a-f267-893237c86781"
      },
      "execution_count": null,
      "outputs": [
        {
          "output_type": "stream",
          "name": "stdout",
          "text": [
            "3\n",
            "7\n",
            "11\n",
            "15\n",
            "19\n",
            "23\n",
            "27\n",
            "31\n"
          ]
        }
      ]
    },
    {
      "cell_type": "markdown",
      "source": [
        "10. Write a Python program to print the first 6 terms of a geometric sequence starting\n",
        "with 2 and having a common ratio of 3.\n",
        "The program should output the following sequence:\n",
        "2 6 18 54 162 486"
      ],
      "metadata": {
        "id": "hIDEeGW8P2hf"
      }
    },
    {
      "cell_type": "code",
      "source": [
        "a = 2\n",
        "for i in range (1,7):\n",
        "    print(a)\n",
        "    a = a*3\n"
      ],
      "metadata": {
        "id": "95MxxvZ3Rd-0",
        "colab": {
          "base_uri": "https://localhost:8080/"
        },
        "outputId": "387a0052-f976-4890-f9d6-b1e28332d4b6"
      },
      "execution_count": null,
      "outputs": [
        {
          "output_type": "stream",
          "name": "stdout",
          "text": [
            "2\n",
            "6\n",
            "18\n",
            "54\n",
            "162\n",
            "486\n"
          ]
        }
      ]
    },
    {
      "cell_type": "markdown",
      "source": [
        "11. Write a program that asks the user for a positive integer value. The program should\n",
        "calculate the sum of all the integers from 1 up to the number entered. For example, if\n",
        "the user enters 20, the loop will find the sum of 1, 2, 3, 4, ... 20."
      ],
      "metadata": {
        "id": "1HqcCDmRReG0"
      }
    },
    {
      "cell_type": "code",
      "source": [
        "A = int(input(\"enter a number\"))\n",
        "sum1 = 0\n",
        "for i in range (1,A+1):\n",
        "    print(i)\n",
        "    sum1 = sum1 + i\n",
        "print(sum1)"
      ],
      "metadata": {
        "id": "0nzNqmt8ReOE",
        "colab": {
          "base_uri": "https://localhost:8080/"
        },
        "outputId": "9e40207c-5b9d-479d-c592-2975324f7790"
      },
      "execution_count": null,
      "outputs": [
        {
          "output_type": "stream",
          "name": "stdout",
          "text": [
            "enter a number10\n",
            "1\n",
            "2\n",
            "3\n",
            "4\n",
            "5\n",
            "6\n",
            "7\n",
            "8\n",
            "9\n",
            "10\n",
            "55\n"
          ]
        }
      ]
    },
    {
      "cell_type": "markdown",
      "source": [
        "12. write a program that takes a positive integer N as input and calculates the sum of\n",
        "the reciprocals of all numbers from 1 up to N. The program should display the final sum.\n",
        "Output of the program should be like:\n",
        "Enter a positive integer: 5\n",
        "The sum of reciprocals from 1 to 5 is: 2.28"
      ],
      "metadata": {
        "id": "rKfK150HReVi"
      }
    },
    {
      "cell_type": "code",
      "source": [
        "n = int(input(\"enter a number : \"))\n",
        "sum1 = 0\n",
        "for i in range (1,n+1):\n",
        "    sum1 = sum1 + (1/i)\n",
        "print(sum1)"
      ],
      "metadata": {
        "id": "OSFzHEaLRech",
        "colab": {
          "base_uri": "https://localhost:8080/"
        },
        "outputId": "6d4961ac-3d69-44ac-a005-932ebc9a9cbd"
      },
      "execution_count": 3,
      "outputs": [
        {
          "output_type": "stream",
          "name": "stdout",
          "text": [
            "enter a number : 5\n",
            "2.283333333333333\n"
          ]
        }
      ]
    },
    {
      "cell_type": "markdown",
      "source": [
        "13. Write a program that prompts the user to enter a number and repeats this process 5\n",
        "times. The program should accumulate the numbers entered and then display the final\n",
        "running total.\n",
        "Sample Output:\n",
        "Enter a number: 10\n",
        "Enter a number: 15\n",
        "Enter a number: 35\n",
        "Enter a number: 40\n",
        "Enter a number: 50\n",
        "The final running total is: 150"
      ],
      "metadata": {
        "id": "TqrdHPTsRejU"
      }
    },
    {
      "cell_type": "code",
      "source": [
        "b = 0\n",
        "for i in range (1,6):\n",
        "    a = int(input(\"enter a number\"))\n",
        "    b = b + a\n",
        "print(b)"
      ],
      "metadata": {
        "id": "NiS98qe5ReqC",
        "colab": {
          "base_uri": "https://localhost:8080/"
        },
        "outputId": "dc150124-ab67-4b60-f8cd-c1a0a5ae0b0a"
      },
      "execution_count": 8,
      "outputs": [
        {
          "output_type": "stream",
          "name": "stdout",
          "text": [
            "enter a number10\n",
            "enter a number10\n",
            "enter a number10\n",
            "enter a number10\n",
            "enter a number10\n",
            "50\n"
          ]
        }
      ]
    },
    {
      "cell_type": "markdown",
      "source": [
        "14. Write a program that prompts the user to enter a positive integer and calculates its\n",
        "factorial. The factorial of a positive integer 'n' is denoted as 'n!' and is calculated by\n",
        "multiplying all the integers from 1 to 'n' together. For example, the factorial of 5\n",
        "(denoted as 5!) is calculated as 1 x 2 x 3 x 4 x 5.\n",
        "The program should display the factorial value if the input is a positive number, or\n",
        "display a message stating that the factorial does not exist for negative numbers.\n",
        "Additionally, for an input of zero, the program should output that the factorial of 0 is 1."
      ],
      "metadata": {
        "id": "dIAykkHlRewU"
      }
    },
    {
      "cell_type": "code",
      "source": [
        "def factorial(n):\n",
        "    if n == 0:\n",
        "        return 1\n",
        "    elif n < 0:\n",
        "        return \"factorial does not exist for negative numbers\"\n",
        "    else:\n",
        "        return n * factorial(n-1)\n",
        "n=int(input(\"Input a number to compute the factiorial : \"))\n",
        "print(factorial(n))\n"
      ],
      "metadata": {
        "id": "kOxach8oRe2p",
        "colab": {
          "base_uri": "https://localhost:8080/"
        },
        "outputId": "9d6ba016-8663-412e-80d0-21d1e230501d"
      },
      "execution_count": 15,
      "outputs": [
        {
          "output_type": "stream",
          "name": "stdout",
          "text": [
            "Input a number to compute the factiorial : -1\n",
            "factorial does not exist for negative numbers\n"
          ]
        }
      ]
    },
    {
      "cell_type": "markdown",
      "source": [
        "15. Write a Python program that prompts the user to enter a base number and an\n",
        "exponent, and then calculates the power of the base to the exponent. The program\n",
        "should not use the exponentiation operator (**) or the math.pow() function. The\n",
        "program should handle both positive and negative exponents"
      ],
      "metadata": {
        "id": "7XjxiJ-ERe9D"
      }
    },
    {
      "cell_type": "code",
      "source": [
        "def power(a,b):\n",
        "    c = a\n",
        "    if b > 0:\n",
        "        for i in range (1,b):\n",
        "          a = c*a\n",
        "        return a\n",
        "print(power(2, 3))\n",
        "print(power(2, 4))\n",
        "print(power(2, 5))\n"
      ],
      "metadata": {
        "id": "j9s1FskrRfDC",
        "colab": {
          "base_uri": "https://localhost:8080/"
        },
        "outputId": "e515d92f-49c5-4eb2-f041-21cef8deccb0"
      },
      "execution_count": 28,
      "outputs": [
        {
          "output_type": "stream",
          "name": "stdout",
          "text": [
            "8\n",
            "16\n",
            "32\n"
          ]
        }
      ]
    },
    {
      "cell_type": "code",
      "source": [],
      "metadata": {
        "id": "jXPlzyNLupT6"
      },
      "execution_count": null,
      "outputs": []
    }
  ]
}