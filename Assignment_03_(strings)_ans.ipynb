{
  "nbformat": 4,
  "nbformat_minor": 0,
  "metadata": {
    "colab": {
      "provenance": [],
      "toc_visible": true,
      "authorship_tag": "ABX9TyO6m5ayxRq2+ia3R7ge7KCx",
      "include_colab_link": true
    },
    "kernelspec": {
      "name": "python3",
      "display_name": "Python 3"
    },
    "language_info": {
      "name": "python"
    }
  },
  "cells": [
    {
      "cell_type": "markdown",
      "metadata": {
        "id": "view-in-github",
        "colab_type": "text"
      },
      "source": [
        "<a href=\"https://colab.research.google.com/github/aminsadruddin/Assignment_03_04_05/blob/main/Assignment_03_(strings)_ans.ipynb\" target=\"_parent\"><img src=\"https://colab.research.google.com/assets/colab-badge.svg\" alt=\"Open In Colab\"/></a>"
      ]
    },
    {
      "cell_type": "markdown",
      "source": [
        "1. Write a program that accepts a string from user. Your program should count and display number of\n",
        "vowels in that string"
      ],
      "metadata": {
        "id": "huHFDz8gCEFu"
      }
    },
    {
      "cell_type": "code",
      "source": [
        "str1 = str(input(\"Enter a string: \"))\n",
        "count = 0\n",
        "for i in str1:\n",
        "    if i == 'a' or i == 'e' or i == 'i' or i == 'o' or i == 'u':\n",
        "        count += 1\n",
        "print(count)\n"
      ],
      "metadata": {
        "colab": {
          "base_uri": "https://localhost:8080/"
        },
        "id": "lX3yJYCKCGQT",
        "outputId": "0c284b56-f24a-4b4e-956e-b77cf62d6b55"
      },
      "execution_count": null,
      "outputs": [
        {
          "output_type": "stream",
          "name": "stdout",
          "text": [
            "Enter a string: My name is Amin Sadruddin\n",
            "7\n"
          ]
        }
      ]
    },
    {
      "cell_type": "markdown",
      "source": [
        "2. Write a program that reads a string from keyboard and display:\n",
        "* The number of uppercase letters in the string\n",
        "* The number of lowercase letters in the string\n",
        "* The number of digits in the string\n",
        "* The number of whitespace characters in the string"
      ],
      "metadata": {
        "id": "rB1dNiXACr1C"
      }
    },
    {
      "cell_type": "code",
      "source": [
        "read_str= str(input(\"Enter a string: \"))\n",
        "upper = 0\n",
        "lower = 0\n",
        "digit = 0\n",
        "space = 0\n",
        "\n",
        "for i in read_str:\n",
        "  if i.isupper():\n",
        "    upper +=1\n",
        "  elif i.islower():\n",
        "    lower += 1\n",
        "  elif i.isdigit():\n",
        "    digit += 1\n",
        "  elif i.isspace():\n",
        "    space += 1\n",
        "\n",
        "print(\"Uppercase: \", upper)\n",
        "print(\"Lowercase: \", lower)\n",
        "print(\"Digit: \", digit)\n",
        "print(\"Space: \", space)\n"
      ],
      "metadata": {
        "colab": {
          "base_uri": "https://localhost:8080/"
        },
        "id": "reEAYnNcCn_k",
        "outputId": "7b6ccd5a-1e57-49bb-e687-e1ab6fa072e2"
      },
      "execution_count": null,
      "outputs": [
        {
          "output_type": "stream",
          "name": "stdout",
          "text": [
            "Enter a string: Amy Name is Amin Sadruddin and My age is 33\n",
            "Uppercase:  5\n",
            "Lowercase:  27\n",
            "Digit:  2\n",
            "Space:  9\n"
          ]
        }
      ]
    },
    {
      "cell_type": "markdown",
      "source": [
        "3. Write a Python program that accepts a string from user. Your program should create and display a\n",
        "new string where the first and last characters have been exchanged.\n",
        "For example if the user enters the string 'HELLO' then new string would be 'OELLH'"
      ],
      "metadata": {
        "id": "EAawLzSvCxsF"
      }
    },
    {
      "cell_type": "code",
      "source": [
        "str2 = str(input(\"enter the strings\"))\n",
        "str3 = str2[-1]+str2[1:-1]+str2[0]\n",
        "print(str3)"
      ],
      "metadata": {
        "colab": {
          "base_uri": "https://localhost:8080/"
        },
        "id": "pfgAFJ_QCxxi",
        "outputId": "39d10bfc-ac34-4322-c597-3b12cf5f259b"
      },
      "execution_count": null,
      "outputs": [
        {
          "output_type": "stream",
          "name": "stdout",
          "text": [
            "enter the stringsHello\n",
            "oellH\n"
          ]
        }
      ]
    },
    {
      "cell_type": "markdown",
      "source": [
        "4. Write a Python program that accepts a string from user. Your program should create a new string in\n",
        "reverse of first string and display it.\n",
        "\n",
        "For example if the user enters the string 'EXAM' then new string would be 'MAXE'"
      ],
      "metadata": {
        "id": "fD7oGEuuCx7x"
      }
    },
    {
      "cell_type": "code",
      "source": [
        "str6 = str(input(\"enter the strings\"))\n",
        "str7 = str6[::-1]\n",
        "print(str7)"
      ],
      "metadata": {
        "colab": {
          "base_uri": "https://localhost:8080/"
        },
        "id": "q2H2KxdsDCJU",
        "outputId": "1729eee4-a303-4d30-ebee-db92e7905258"
      },
      "execution_count": null,
      "outputs": [
        {
          "output_type": "stream",
          "name": "stdout",
          "text": [
            "enter the stringshello dear\n",
            "raed olleh\n"
          ]
        }
      ]
    },
    {
      "cell_type": "markdown",
      "source": [
        "5. Write a Python program that accepts a string from user. Your program should create a new string by\n",
        "shifting one position to left.\n",
        "For example if the user enters the string 'examination 2021' then new string would be 'xamination\n",
        "2021e'\n"
      ],
      "metadata": {
        "id": "Df7ROyZrCyNS"
      }
    },
    {
      "cell_type": "code",
      "source": [
        "str8 = str(input(\"enter the strings\"))\n",
        "print(str8[1:-1]+str8[-1]+str8[0])"
      ],
      "metadata": {
        "colab": {
          "base_uri": "https://localhost:8080/"
        },
        "id": "DGQ50O6lCzaD",
        "outputId": "cc55021f-56a6-41d3-e98a-b16fa7a3d8da"
      },
      "execution_count": null,
      "outputs": [
        {
          "output_type": "stream",
          "name": "stdout",
          "text": [
            "enter the stringsexamination 2021\n",
            "xamination 2021e\n"
          ]
        }
      ]
    },
    {
      "cell_type": "markdown",
      "source": [
        "6. Write a program that asks the user to input his name and print its initials. Assuming that the user\n",
        "always types first name, middle name and last name and does not include any unnecessary spaces.\n",
        "For example, if the user enters Ajay Kumar Garg the program should display A. K. G.\n",
        "Note:Don't use split() method"
      ],
      "metadata": {
        "id": "r1_OY4mDCzgy"
      }
    },
    {
      "cell_type": "code",
      "source": [
        "str9 = str(input(\"enter the strings : \"))\n",
        "str10 = \"\"\n",
        "\n",
        "for i in str9:\n",
        "  if i.isupper():\n",
        "    str10 += i\n",
        "    str10 += \".\"\n",
        "\n",
        "\n",
        "print(str10)\n"
      ],
      "metadata": {
        "id": "SbW9qzqyCzn0",
        "colab": {
          "base_uri": "https://localhost:8080/"
        },
        "outputId": "86f9cf90-aff2-438b-aa21-7b46cc121341"
      },
      "execution_count": 33,
      "outputs": [
        {
          "output_type": "stream",
          "name": "stdout",
          "text": [
            "enter the strings : Amin Sadruddin\n",
            "A.S.\n"
          ]
        }
      ]
    },
    {
      "cell_type": "code",
      "source": [
        "str11 = str(input(\"enter the strings : \"))\n",
        "leng = len(str11)\n",
        "str12 = str11[0]\n",
        "str12 += \".\"\n",
        "\n",
        "for i in range(1,leng):\n",
        "\n",
        "  if str11[i] == \" \":\n",
        "    str12 += str11[i+1]\n",
        "  #   str12 += \".\"\n",
        "\n",
        "print(str12)\n"
      ],
      "metadata": {
        "colab": {
          "base_uri": "https://localhost:8080/"
        },
        "id": "LfRknD5Q_7sq",
        "outputId": "84d09d26-3964-4b4f-b7a5-21e7ccdc8eed"
      },
      "execution_count": 50,
      "outputs": [
        {
          "output_type": "stream",
          "name": "stdout",
          "text": [
            "enter the strings : Amin  Sadr\n",
            "A. S\n"
          ]
        }
      ]
    },
    {
      "cell_type": "markdown",
      "source": [
        "7. A palindrome is a string that reads the same backward as forward. For example, the words dad,\n",
        "madam and radar are all palindromes. Write a programs that determines whether the string is a\n",
        "palindrome.\n",
        "Note: do not use reverse() method"
      ],
      "metadata": {
        "id": "9GZIRUoiDOZU"
      }
    },
    {
      "cell_type": "code",
      "source": [
        "def is_palindrome(text):\n",
        "  if text == text[::-1]:\n",
        "    return True\n",
        "  else:\n",
        "    return False\n",
        "\n",
        "print(is_palindrome(\"radar\"))\n",
        "print(is_palindrome(\"level\"))\n",
        "print(is_palindrome(\"Abiha\"))\n"
      ],
      "metadata": {
        "id": "6f4Ycw67DOhC",
        "colab": {
          "base_uri": "https://localhost:8080/"
        },
        "outputId": "f99c8b2b-1d86-4543-a24d-a3f5d8b9e74b"
      },
      "execution_count": 52,
      "outputs": [
        {
          "output_type": "stream",
          "name": "stdout",
          "text": [
            "True\n",
            "True\n",
            "False\n"
          ]
        }
      ]
    },
    {
      "cell_type": "markdown",
      "source": [
        "8. Write a program that display following output:\n",
        "SHIFT\n",
        "HIFTS\n",
        "IFTSH\n",
        "FTSHI\n",
        "TSHIF\n",
        "SHIFT"
      ],
      "metadata": {
        "id": "sDGE3QoIDOpi"
      }
    },
    {
      "cell_type": "code",
      "source": [
        "def output(word):\n",
        "    n = len(word)\n",
        "    for i in range(n):\n",
        "        a = word[i:] + word[:i]\n",
        "        print(a)\n",
        "\n",
        "# Test the function with \"SHIFT\"\n",
        "output(\"SHIFT\")"
      ],
      "metadata": {
        "id": "ZPccLM9XDOzV",
        "colab": {
          "base_uri": "https://localhost:8080/"
        },
        "outputId": "093ab9bb-2907-4449-ab2f-95d55bf4cfa0"
      },
      "execution_count": 56,
      "outputs": [
        {
          "output_type": "stream",
          "name": "stdout",
          "text": [
            "SHIFT\n",
            "HIFTS\n",
            "IFTSH\n",
            "FTSHI\n",
            "TSHIF\n"
          ]
        }
      ]
    },
    {
      "cell_type": "markdown",
      "source": [
        "9. Write a program in python that accepts a string to setup a passwords. Your entered password must\n",
        "meet the following requirements:\n",
        "The password must be at least eight characters long.\n",
        "It must contain at least one uppercase letter.\n",
        "It must contain at least one lowercase letter.\n",
        "It must contain at least one numeric digit.\n",
        "Your program should should perform this validation."
      ],
      "metadata": {
        "id": "o_bfURyZDO82"
      }
    },
    {
      "cell_type": "code",
      "source": [
        "password = input(\"Enter a password: \")\n",
        "\n",
        "if len(password) < 8:\n",
        "    print(\"Password must be at least 8 characters long.\")\n",
        "\n",
        "elif not any(char.isupper() for char in password):\n",
        "    print(\"Password must contain at least one uppercase letter.\")\n",
        "\n",
        "elif not any(char.islower() for char in password):\n",
        "    print(\"Password must contain at least one lowercase letter.\")\n",
        "\n",
        "elif not any(char.isdigit() for char in password):\n",
        "    print(\"Password must contain at least one numeric digit.\")\n",
        "\n",
        "else:\n",
        "  print(\"Password is valid.\")"
      ],
      "metadata": {
        "id": "2NxUUNwTDPGE",
        "colab": {
          "base_uri": "https://localhost:8080/"
        },
        "outputId": "bf1afe51-38e4-47d1-86d3-c0bcdaee7713"
      },
      "execution_count": 71,
      "outputs": [
        {
          "output_type": "stream",
          "name": "stdout",
          "text": [
            "Enter a password: BBank9999999\n",
            "Password is valid.\n"
          ]
        }
      ]
    },
    {
      "cell_type": "code",
      "source": [],
      "metadata": {
        "id": "z2nzctTEDPTU"
      },
      "execution_count": null,
      "outputs": []
    }
  ]
}